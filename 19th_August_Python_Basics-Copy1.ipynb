{
 "cells": [
  {
   "cell_type": "code",
   "execution_count": 1,
   "id": "23bbc6d9",
   "metadata": {
    "ExecuteTime": {
     "end_time": "2023-10-11T16:07:47.156881Z",
     "start_time": "2023-10-11T16:07:47.150545Z"
    }
   },
   "outputs": [],
   "source": [
    "# TOPIC: Python Basics Variablabse"
   ]
  },
  {
   "cell_type": "code",
   "execution_count": 2,
   "id": "a9d9c95e",
   "metadata": {
    "ExecuteTime": {
     "end_time": "2023-10-11T16:50:48.523615Z",
     "start_time": "2023-10-11T16:50:48.177663Z"
    }
   },
   "outputs": [
    {
     "name": "stdout",
     "output_type": "stream",
     "text": [
      "x: 35 y: 10\n"
     ]
    }
   ],
   "source": [
    "#1. Declare two variables, `x` and `y`, and assign them integer values. Swap the values of these variables without using any temporary variable.\n",
    "\n",
    "x=10\n",
    "y=35\n",
    "x=x+y\n",
    "y=x-y\n",
    "x=x-y\n",
    "print('x:',x,'y:',y)"
   ]
  },
  {
   "cell_type": "code",
   "execution_count": 5,
   "id": "b6d51b99",
   "metadata": {
    "ExecuteTime": {
     "end_time": "2023-10-11T16:57:13.560161Z",
     "start_time": "2023-10-11T16:57:09.944877Z"
    }
   },
   "outputs": [
    {
     "name": "stdout",
     "output_type": "stream",
     "text": [
      "enter length:4\n",
      "enter width:8\n",
      "area : 32\n"
     ]
    }
   ],
   "source": [
    "#2. Create a program that calculates the area of a rectangle. Take the length and width as inputs from the user and store them in variables. Calculate and display the area.\n",
    "\n",
    "length=int(input('enter length:'))\n",
    "width=int(input('enter width:'))\n",
    "\n",
    "area=length*width\n",
    "print('area :',area)"
   ]
  },
  {
   "cell_type": "code",
   "execution_count": 8,
   "id": "515ea088",
   "metadata": {
    "ExecuteTime": {
     "end_time": "2023-10-11T17:03:37.760050Z",
     "start_time": "2023-10-11T17:03:34.353121Z"
    }
   },
   "outputs": [
    {
     "name": "stdout",
     "output_type": "stream",
     "text": [
      "enter tempture in celsius: 8.9\n",
      "48.02\n"
     ]
    }
   ],
   "source": [
    "#3. Write a Python program that converts temperatures from Celsius to Fahrenheit. Take the temperature in Celsius as input, store it in a variable, convert it to Fahrenheit, and display the result.\n",
    "\n",
    "celsius=float(input('enter tempture in celsius: '))\n",
    "Fahrenheit=(celsius * 9/5) + 32\n",
    "print(Fahrenheit)"
   ]
  },
  {
   "cell_type": "code",
   "execution_count": 9,
   "id": "b5728cb9",
   "metadata": {
    "ExecuteTime": {
     "end_time": "2023-10-11T17:04:41.509443Z",
     "start_time": "2023-10-11T17:04:41.503362Z"
    }
   },
   "outputs": [],
   "source": [
    "# TOPIC: String Based Questions"
   ]
  },
  {
   "cell_type": "code",
   "execution_count": 10,
   "id": "583c4d6e",
   "metadata": {
    "ExecuteTime": {
     "end_time": "2023-10-11T17:08:26.731131Z",
     "start_time": "2023-10-11T17:08:21.950419Z"
    }
   },
   "outputs": [
    {
     "name": "stdout",
     "output_type": "stream",
     "text": [
      "enter string :jiijgr\n",
      "6\n"
     ]
    }
   ],
   "source": [
    "#1. Write a Python program that takes a string as input and prints the length of the string.\n",
    "\n",
    "string = str(input('enter string :'))\n",
    "print(len(string))"
   ]
  },
  {
   "cell_type": "code",
   "execution_count": 12,
   "id": "090d5c25",
   "metadata": {
    "ExecuteTime": {
     "end_time": "2023-10-11T17:15:00.438715Z",
     "start_time": "2023-10-11T17:14:53.827618Z"
    }
   },
   "outputs": [
    {
     "name": "stdout",
     "output_type": "stream",
     "text": [
      "enter sentence : oouuy\n",
      "4\n"
     ]
    }
   ],
   "source": [
    "# 2. Create a program that takes a sentence from the user and counts the number of vowels (a, e, i, o, u) in the string.\n",
    "\n",
    "sentence=input('enter sentence : ')\n",
    "total=0\n",
    "for i in sentence:\n",
    "    if i in ['a','e','i','o','u']:\n",
    "        total+=1\n",
    "\n",
    "print(total)"
   ]
  },
  {
   "cell_type": "code",
   "execution_count": 13,
   "id": "7d32c60d",
   "metadata": {
    "ExecuteTime": {
     "end_time": "2023-10-11T17:17:40.784917Z",
     "start_time": "2023-10-11T17:17:36.529254Z"
    }
   },
   "outputs": [
    {
     "name": "stdout",
     "output_type": "stream",
     "text": [
      "enter string : pratik\n",
      "kitarp\n"
     ]
    }
   ],
   "source": [
    "#3. Given a string, reverse the order of characters using string slicing and print the reversed string.\n",
    "\n",
    "string=str(input('enter string : '))\n",
    "print(string[::-1])"
   ]
  },
  {
   "cell_type": "code",
   "execution_count": 16,
   "id": "a3dd45f1",
   "metadata": {
    "ExecuteTime": {
     "end_time": "2023-10-11T17:23:07.295088Z",
     "start_time": "2023-10-11T17:22:58.553802Z"
    }
   },
   "outputs": [
    {
     "name": "stdout",
     "output_type": "stream",
     "text": [
      "enter string : prarp\n",
      "it is a palindrome\n"
     ]
    }
   ],
   "source": [
    "#4. Write a program that takes a string as input and checks if it is a palindrome (reads the same forwards and backwards).\n",
    "\n",
    "string=(input('enter string : '))\n",
    "if string==string[::-1]:\n",
    "    print('it is a palindrome')\n",
    "else :\n",
    "    print('it is not a palindrome')"
   ]
  },
  {
   "cell_type": "code",
   "execution_count": 19,
   "id": "17a91751",
   "metadata": {
    "ExecuteTime": {
     "end_time": "2023-10-11T17:34:06.713400Z",
     "start_time": "2023-10-11T17:34:01.703651Z"
    }
   },
   "outputs": [
    {
     "name": "stdout",
     "output_type": "stream",
     "text": [
      "enter string :    sdd sdcoidhcc d oisdh    \n",
      "sddsdcoidhccdoisdh\n"
     ]
    }
   ],
   "source": [
    "#5. Create a program that takes a string as input and removes all the spaces from it. Print the modified string without spaces.\n",
    "\n",
    "string=input('enter string : ')\n",
    "string2 = string.replace(' ','')\n",
    "print(string2)"
   ]
  },
  {
   "cell_type": "code",
   "execution_count": null,
   "id": "3cf8f3b2",
   "metadata": {},
   "outputs": [],
   "source": []
  }
 ],
 "metadata": {
  "kernelspec": {
   "display_name": "Python 3 (ipykernel)",
   "language": "python",
   "name": "python3"
  },
  "language_info": {
   "codemirror_mode": {
    "name": "ipython",
    "version": 3
   },
   "file_extension": ".py",
   "mimetype": "text/x-python",
   "name": "python",
   "nbconvert_exporter": "python",
   "pygments_lexer": "ipython3",
   "version": "3.11.4"
  },
  "toc": {
   "base_numbering": 1,
   "nav_menu": {},
   "number_sections": true,
   "sideBar": true,
   "skip_h1_title": false,
   "title_cell": "Table of Contents",
   "title_sidebar": "Contents",
   "toc_cell": false,
   "toc_position": {},
   "toc_section_display": true,
   "toc_window_display": false
  }
 },
 "nbformat": 4,
 "nbformat_minor": 5
}
